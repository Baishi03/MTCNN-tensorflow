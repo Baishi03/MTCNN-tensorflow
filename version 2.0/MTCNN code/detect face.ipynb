{
 "cells": [
  {
   "cell_type": "code",
   "execution_count": 13,
   "metadata": {},
   "outputs": [
    {
     "name": "stdout",
     "output_type": "stream",
     "text": [
      "INFO:tensorflow:Restoring parameters from /home/dell/Desktop/prepared_data/model/Pnet_model/Pnet_model.ckpt-20000\n",
      "INFO:tensorflow:Restoring parameters from /home/dell/Desktop/prepared_data/model/Rnet_model/Rnet_model.ckpt-40000\n",
      "INFO:tensorflow:Restoring parameters from /home/dell/Desktop/prepared_data/model/Onet_model/Onet_model.ckpt-40000\n",
      "detect-time:  1.2219476699829102\n"
     ]
    }
   ],
   "source": [
    "from detection.mtcnn_detector import MTCNN_Detector\n",
    "from core.MTCNN_model import Pnet_model,Rnet_model,Onet_model\n",
    "import cv2\n",
    "import matplotlib.pyplot as plt\n",
    "import numpy as np\n",
    "import os\n",
    "\n",
    "os.environ[\"TF_CPP_MIN_LOG_LEVEL\"] = \"2\"\n",
    "\n",
    "def main():\n",
    "    \n",
    "    if(model_name in [\"Pnet\",\"Rnet\",\"Onet\"]):\n",
    "        model[0]=Pnet_model\n",
    "    if(model_name in [\"Rnet\",\"Onet\"]):\n",
    "        model[1]=Rnet_model\n",
    "    if(model_name==\"Onet\"):\n",
    "        model[2]=Onet_model\n",
    "        \n",
    "    detector=MTCNN_Detector(model,model_path,batch_size,factor,min_face_size,threshold)\n",
    "    img=cv2.imread(\"/home/dell/Desktop/2.jpg\") \n",
    "    blue = (255, 0, 0) \n",
    "    \n",
    "#     face_box,_=detector.detect_single_face(img)\n",
    "#     for a in face_box: \n",
    "#         cv2.rectangle(img,(int(a[0]),int(a[1])), (int(a[2]), int(a[3])),blue,3,8,0)\n",
    "\n",
    "    face_box,landmarks_box=detector.detect_single_face(img)\n",
    "    for idx,a in enumerate(face_box):\n",
    "        for i in range(5):\n",
    "            cv2.circle(img,(int(landmarks_box[idx][i][0]),int(landmarks_box[idx][i][1])),2,(0,255,0))\n",
    "        cv2.rectangle(img,(int(a[0]),int(a[1])), (int(a[2]), int(a[3])),blue,3,8,0)        \n",
    "\n",
    "#     cv2.imwrite(\"/home/dell/Desktop/MTCNN_test_2.jpg\",img)\n",
    "#     cv2.imshow(\"MTCNN_test_1\",img)\n",
    "#     cv2.waitKey(0xff)\n",
    "#     cv2.destroyAllWindows()\n",
    "    plt.imshow(img)    \n",
    "    plt.show()    \n",
    "    \n",
    "    \n",
    "if __name__==\"__main__\":\n",
    "    \n",
    "    factor=0.79\n",
    "    \n",
    "    model=[None,None,None]\n",
    "    #原文参数\n",
    "    threshold=[0.8,0.8,0.6]\n",
    "    min_face_size=10\n",
    "    #原文参数\n",
    "    batch_size=1\n",
    "    model_name=\"Onet\"    \n",
    "    base_dir=\"/home/dell/Desktop/prepared_data\"\n",
    "    \n",
    "    model_path=[os.path.join(base_dir,\"model/Pnet_model/Pnet_model.ckpt-20000\"),\n",
    "                os.path.join(base_dir,\"model/Rnet_model/Rnet_model.ckpt-40000\"),\n",
    "                os.path.join(base_dir,\"model/Onet_model/Onet_model.ckpt-40000\")] \n",
    "    \n",
    "\n",
    "    main()\n",
    "    "
   ]
  }
 ],
 "metadata": {
  "kernelspec": {
   "display_name": "Python 3",
   "language": "python",
   "name": "python3"
  },
  "language_info": {
   "codemirror_mode": {
    "name": "ipython",
    "version": 3
   },
   "file_extension": ".py",
   "mimetype": "text/x-python",
   "name": "python",
   "nbconvert_exporter": "python",
   "pygments_lexer": "ipython3",
   "version": "3.6.5"
  }
 },
 "nbformat": 4,
 "nbformat_minor": 2
}
